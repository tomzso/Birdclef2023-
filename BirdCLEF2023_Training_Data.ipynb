{
 "cells": [
  {
   "cell_type": "code",
   "execution_count": 12,
   "metadata": {
    "id": "GoUldEz6LT6U"
   },
   "outputs": [],
   "source": [
    "import os\n",
    "import tensorflow as tf\n",
    "from tensorflow import keras\n",
    "from tensorflow.keras import layers\n",
    "from tensorflow.python.keras.layers import Dense, Flatten\n",
    "from tensorflow.keras.models import Sequential\n",
    "from tensorflow.keras.optimizers import Adam\n",
    "\n",
    "from tensorflow.keras.layers import Dense, Flatten, BatchNormalization, Dropout, ActivityRegularization\n",
    "from tensorflow.keras.regularizers import l2\n",
    "\n",
    "from tensorflow.keras.callbacks import EarlyStopping\n",
    "from tensorflow.keras.callbacks import ModelCheckpoint\n",
    "import matplotlib.pyplot as plt"
   ]
  },
  {
   "cell_type": "code",
   "execution_count": 2,
   "metadata": {
    "id": "ZJwKUqEcKJb1"
   },
   "outputs": [],
   "source": [
    "\n",
    "# Download the train, validation and test dataset which were created with the dataset preprocess files\n",
    "\n",
    "# file_id_audio = [\n",
    "#     '1NNxYN2DbuDF0tvzbZTQ_EPEJ5uIPZPai', # https://drive.google.com/file/d/1NNxYN2DbuDF0tvzbZTQ_EPEJ5uIPZPai/view?usp=sharing\n",
    "#     '1-CMJZY4allQBba5gl5s0Y-RT9Qdma_Mj', # https://drive.google.com/file/d/1-CMJZY4allQBba5gl5s0Y-RT9Qdma_Mj/view?usp=sharing\n",
    "#     '1--LAbXygf83JJuY-Do3tG_6cVxSErHr5', # https://drive.google.com/file/d/1--LAbXygf83JJuY-Do3tG_6cVxSErHr5/view?usp=sharing\n",
    "# ]\n",
    "\n",
    "\n",
    "# for i, id in enumerate(file_id_audio):\n",
    "#   # Check if the file already exists\n",
    "#   if (not os.path.exists('val_dataset.tfrecord')) or (not os.path.exists('train_dataset.tfrecord')) or (not os.path.exists('test_dataset.tfrecord')):\n",
    "#     !wget --content-disposition 'https://drive.google.com/uc?export=download&id={id}&confirm=t'\n",
    "\n",
    "\n"
   ]
  },
  {
   "cell_type": "code",
   "execution_count": 3,
   "metadata": {
    "colab": {
     "base_uri": "https://localhost:8080/",
     "height": 53
    },
    "id": "PJ5wTbo2OWY1",
    "outputId": "944afcd4-ec91-40bf-ef5b-4fa5c1990656"
   },
   "outputs": [],
   "source": [
    "# Another way to get the dataset from the Google Drive and the working enviroment is Google Colab \n",
    "\n",
    "# from google.colab import drive\n",
    "# drive.mount('/content/drive')\n",
    "\n",
    "# import shutil\n",
    "\n",
    "# drive_file_path = '/content/drive/MyDrive/test_dataset.tfrecord'\n",
    "# colab_file_path = '/content/test_dataset.tfrecord'\n",
    "\n",
    "# shutil.copy(drive_file_path, colab_file_path)\n",
    "\n",
    "# drive_file_path = '/content/drive/MyDrive/val_dataset.tfrecord'\n",
    "# colab_file_path = '/content/val_dataset.tfrecord'\n",
    "\n",
    "# shutil.copy(drive_file_path, colab_file_path)\n",
    "\n",
    "\n",
    "# drive_file_path = '/content/drive/MyDrive/train_dataset.tfrecord'\n",
    "# colab_file_path = '/content/train_dataset.tfrecord'\n",
    "\n",
    "# shutil.copy(drive_file_path, colab_file_path)"
   ]
  },
  {
   "cell_type": "code",
   "execution_count": 4,
   "metadata": {
    "id": "OU-PlhNPOjFG"
   },
   "outputs": [],
   "source": [
    "\n",
    "# Function to parse TFRecord entries, declaring the metadatas of the TFRecord files\n",
    "def _parse_function(proto):\n",
    "    keys_to_features = {\n",
    "        'data': tf.io.FixedLenFeature([128 * 313 * 3], tf.float32),\n",
    "        'labels': tf.io.FixedLenFeature([], tf.int64),\n",
    "    }\n",
    "    parsed_features = tf.io.parse_single_example(proto, keys_to_features)\n",
    "    parsed_features['data'] = tf.reshape(parsed_features['data'], (128, 313, 3))\n",
    "    return parsed_features['data'], parsed_features['labels']\n",
    "\n",
    "\n",
    "\n"
   ]
  },
  {
   "cell_type": "code",
   "execution_count": 5,
   "metadata": {
    "id": "2Rbs9i3IPhjM"
   },
   "outputs": [],
   "source": [
    "# Load and parse TFRecord datasets for testing, validation,and training\n",
    "# These dataset are pipelined so they are not loaded to the memory.\n",
    "\n",
    "test_dataset = tf.data.TFRecordDataset('test_dataset.tfrecord').map(_parse_function)\n",
    "val_dataset = tf.data.TFRecordDataset('val_dataset.tfrecord').map(_parse_function)\n",
    "train_dataset = tf.data.TFRecordDataset('train_dataset.tfrecord').map(_parse_function)"
   ]
  },
  {
   "cell_type": "code",
   "execution_count": 6,
   "metadata": {
    "colab": {
     "base_uri": "https://localhost:8080/"
    },
    "id": "x7uKtkSaPrHn",
    "outputId": "1ae36241-b78e-4dd5-f5cc-a57c53b1611c"
   },
   "outputs": [],
   "source": [
    "# Create a ResNet model with a pre-trained ResNet50 base\n",
    "\n",
    "resnet_model = Sequential()\n",
    "pretrained_model= tf.keras.applications.ResNet50(\n",
    "    include_top=False,\n",
    "    input_shape=(128,313,3),\n",
    "    pooling='avg',classes=264,\n",
    "    weights='imagenet')\n",
    "\n",
    "# Freeze pre-trained ResNet50 layers\n",
    "for layer in pretrained_model.layers:\n",
    "        layer.trainable=False\n",
    "\n",
    "\n",
    "resnet_model.add(pretrained_model)\n",
    "resnet_model.add(Flatten())\n",
    "\n",
    "resnet_model.add(BatchNormalization())\n",
    "\n",
    "# Add Dense layers with dropout and L2 regularization\n",
    "resnet_model.add(Dense(256, activation='relu',kernel_regularizer=keras.regularizers.l2(0.001)))\n",
    "resnet_model.add(BatchNormalization())\n",
    "resnet_model.add(Dropout(0.5))\n",
    "\n",
    "\n",
    "resnet_model.add(Dense(256, activation='relu',kernel_regularizer=keras.regularizers.l2(0.001)))\n",
    "resnet_model.add(BatchNormalization())\n",
    "resnet_model.add(Dropout(0.5))\n",
    "\n",
    "\n",
    "resnet_model.add(Dense(264, activation='softmax'))"
   ]
  },
  {
   "cell_type": "code",
   "execution_count": 7,
   "metadata": {
    "id": "cicjbe4CPs9f"
   },
   "outputs": [],
   "source": [
    "# Compile the model\n",
    "resnet_model.compile(\n",
    "    optimizer='adam',\n",
    "    loss='sparse_categorical_crossentropy',\n",
    "    metrics=['accuracy']\n",
    ")\n",
    "\n",
    "# Display model summary\n",
    "resnet_model.summary()\n"
   ]
  },
  {
   "cell_type": "code",
   "execution_count": 8,
   "metadata": {
    "id": "KhtRiTgXPu_x"
   },
   "outputs": [],
   "source": [
    "# Prefetch datasets for better performance\n",
    "train_dataset = train_dataset.prefetch(buffer_size=tf.data.AUTOTUNE)\n",
    "val_dataset = val_dataset.prefetch(buffer_size=tf.data.AUTOTUNE)\n",
    "\n",
    "# Shuffle training dataset\n",
    "train_dataset = train_dataset.shuffle(300)\n",
    "\n"
   ]
  },
  {
   "cell_type": "code",
   "execution_count": null,
   "metadata": {},
   "outputs": [],
   "source": [
    "\n",
    "# Define early stopping and checkpoint callbacks\n",
    "patience = 20\n",
    "early_stopping=EarlyStopping(patience=patience, verbose=2)\n",
    "checkpointer=ModelCheckpoint(filepath='weights.hdf5', save_best_only=True, verbose=2)"
   ]
  },
  {
   "cell_type": "code",
   "execution_count": null,
   "metadata": {},
   "outputs": [],
   "source": []
  },
  {
   "cell_type": "code",
   "execution_count": 9,
   "metadata": {
    "colab": {
     "base_uri": "https://localhost:8080/"
    },
    "id": "RDdjRkzoP0jZ",
    "outputId": "aea2e7c8-a3f4-46d9-f0b3-9f2933ffca28"
   },
   "outputs": [
    {
     "name": "stdout",
     "output_type": "stream",
     "text": [
      "Epoch 1/20\n",
      "60/60 [==============================] - 101s 1s/step - loss: 6.4441 - accuracy: 0.0156 - val_loss: 5.9536 - val_accuracy: 0.0028\n",
      "Epoch 2/20\n",
      "60/60 [==============================] - 74s 1s/step - loss: 5.7693 - accuracy: 0.0423 - val_loss: 5.8336 - val_accuracy: 0.0028\n",
      "Epoch 3/20\n",
      "60/60 [==============================] - 73s 1s/step - loss: 5.4797 - accuracy: 0.0615 - val_loss: 5.7075 - val_accuracy: 0.0271\n",
      "Epoch 4/20\n",
      "60/60 [==============================] - 73s 1s/step - loss: 5.2609 - accuracy: 0.0744 - val_loss: 5.6080 - val_accuracy: 0.0346\n",
      "Epoch 5/20\n",
      "60/60 [==============================] - 73s 1s/step - loss: 5.0917 - accuracy: 0.0871 - val_loss: 5.5165 - val_accuracy: 0.0476\n",
      "Epoch 6/20\n",
      "60/60 [==============================] - 72s 1s/step - loss: 4.9290 - accuracy: 0.1042 - val_loss: 5.3927 - val_accuracy: 0.0600\n",
      "Epoch 7/20\n",
      "60/60 [==============================] - 72s 1s/step - loss: 4.8125 - accuracy: 0.1131 - val_loss: 5.2725 - val_accuracy: 0.0659\n",
      "Epoch 8/20\n",
      "60/60 [==============================] - 72s 1s/step - loss: 4.7009 - accuracy: 0.1228 - val_loss: 5.1284 - val_accuracy: 0.0811\n",
      "Epoch 9/20\n",
      "60/60 [==============================] - 73s 1s/step - loss: 4.6089 - accuracy: 0.1352 - val_loss: 4.9906 - val_accuracy: 0.0980\n",
      "Epoch 10/20\n",
      "60/60 [==============================] - 73s 1s/step - loss: 4.5299 - accuracy: 0.1431 - val_loss: 4.8741 - val_accuracy: 0.1150\n",
      "Epoch 11/20\n",
      "60/60 [==============================] - 73s 1s/step - loss: 4.4380 - accuracy: 0.1538 - val_loss: 4.7729 - val_accuracy: 0.1298\n",
      "Epoch 12/20\n",
      "60/60 [==============================] - 71s 1s/step - loss: 4.3806 - accuracy: 0.1575 - val_loss: 4.7252 - val_accuracy: 0.1351\n",
      "Epoch 13/20\n",
      "60/60 [==============================] - 70s 1s/step - loss: 4.2965 - accuracy: 0.1701 - val_loss: 4.6857 - val_accuracy: 0.1396\n",
      "Epoch 14/20\n",
      "60/60 [==============================] - 71s 1s/step - loss: 4.2714 - accuracy: 0.1700 - val_loss: 4.6613 - val_accuracy: 0.1422\n",
      "Epoch 15/20\n",
      "60/60 [==============================] - 71s 1s/step - loss: 4.1975 - accuracy: 0.1801 - val_loss: 4.6086 - val_accuracy: 0.1498\n",
      "Epoch 16/20\n",
      "60/60 [==============================] - 72s 1s/step - loss: 4.1450 - accuracy: 0.1844 - val_loss: 4.6184 - val_accuracy: 0.1492\n",
      "Epoch 17/20\n",
      "60/60 [==============================] - 73s 1s/step - loss: 4.1100 - accuracy: 0.1951 - val_loss: 4.6095 - val_accuracy: 0.1505\n",
      "Epoch 18/20\n",
      "60/60 [==============================] - 74s 1s/step - loss: 4.0351 - accuracy: 0.2051 - val_loss: 4.5878 - val_accuracy: 0.1516\n",
      "Epoch 19/20\n",
      "60/60 [==============================] - 70s 1s/step - loss: 4.0113 - accuracy: 0.2094 - val_loss: 4.5815 - val_accuracy: 0.1545\n",
      "Epoch 20/20\n",
      "60/60 [==============================] - 70s 1s/step - loss: 3.9804 - accuracy: 0.2122 - val_loss: 4.6018 - val_accuracy: 0.1509\n"
     ]
    }
   ],
   "source": [
    "# Train the model\n",
    "num_epochs = 20\n",
    "batch_size = 256\n",
    "\n",
    "history = resnet_model.fit(\n",
    "    train_dataset.batch(batch_size),\n",
    "    epochs=num_epochs,\n",
    "    validation_data=val_dataset.batch(batch_size),\n",
    "    callbacks=[checkpointer, early_stopping]\n",
    ")"
   ]
  },
  {
   "cell_type": "code",
   "execution_count": 13,
   "metadata": {},
   "outputs": [
    {
     "data": {
      "image/png": "[encoded data removed]",
      "text/plain": [
       "<Figure size 640x480 with 1 Axes>"
      ]
     },
     "metadata": {},
     "output_type": "display_data"
    }
   ],
   "source": [
    "# Plot training and validation loss\n",
    "plt.plot(history.history['loss'])\n",
    "plt.plot(history.history['val_loss'])\n",
    "plt.grid()\n",
    "plt.title('Model Loss')\n",
    "plt.ylabel('Loss')\n",
    "plt.xlabel('Epochs')\n",
    "plt.legend(['train', 'validation'])\n",
    "plt.show()"
   ]
  },
  {
   "cell_type": "code",
   "execution_count": 14,
   "metadata": {},
   "outputs": [
    {
     "name": "stdout",
     "output_type": "stream",
     "text": [
      "14/14 [==============================] - 20s 1s/step - loss: 4.5671 - accuracy: 0.1515\n"
     ]
    }
   ],
   "source": [
    "# Get the accuracy on the test dataset\n",
    "\n",
    "evaluation_result = resnet_model.evaluate(test_dataset.batch(batch_size))\n",
    "\n",
    "loss_value = evaluation_result[0]\n",
    "\n",
    "accuracy_value = evaluation_result[1]\n"
   ]
  },
  {
   "cell_type": "code",
   "execution_count": 15,
   "metadata": {},
   "outputs": [
    {
     "name": "stdout",
     "output_type": "stream",
     "text": [
      "the test accuracy is 0.15152370929718018\n"
     ]
    }
   ],
   "source": [
    "print(f'the test accuracy is {accuracy_value}')"
   ]
  }
 ],
 "metadata": {
  "accelerator": "GPU",
  "colab": {
   "gpuType": "T4",
   "provenance": []
  },
  "kernelspec": {
   "display_name": "Python 3 (ipykernel)",
   "language": "python",
   "name": "python3"
  },
  "language_info": {
   "codemirror_mode": {
    "name": "ipython",
    "version": 3
   },
   "file_extension": ".py",
   "mimetype": "text/x-python",
   "name": "python",
   "nbconvert_exporter": "python",
   "pygments_lexer": "ipython3",
   "version": "3.9.18"
  }
 },
 "nbformat": 4,
 "nbformat_minor": 4
}
